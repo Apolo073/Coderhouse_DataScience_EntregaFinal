{
  "nbformat": 4,
  "nbformat_minor": 0,
  "metadata": {
    "colab": {
      "provenance": [],
      "collapsed_sections": [
        "FBzgz9Ftpnt9",
        "gVo7Kri1psvU"
      ],
      "toc_visible": true,
      "authorship_tag": "ABX9TyMTVyQZmCBlsZE2QKOqRD/d",
      "include_colab_link": true
    },
    "kernelspec": {
      "name": "python3",
      "display_name": "Python 3"
    },
    "language_info": {
      "name": "python"
    }
  },
  "cells": [
    {
      "cell_type": "markdown",
      "metadata": {
        "id": "view-in-github",
        "colab_type": "text"
      },
      "source": [
        "<a href=\"https://colab.research.google.com/github/Apolo073/Coderhouse_DataScience_EntregaFinal/blob/main/Reproducci%C3%B3n_Canciones.ipynb\" target=\"_parent\"><img src=\"https://colab.research.google.com/assets/colab-badge.svg\" alt=\"Open In Colab\"/></a>"
      ]
    },
    {
      "cell_type": "markdown",
      "source": [
        "##1) INTRODUCCIÓN DE DATASET - RESUMEN METADATA"
      ],
      "metadata": {
        "id": "NCizs4q_paFa"
      }
    },
    {
      "cell_type": "markdown",
      "source": [
        "###**DESCRIPCIÓN DEL PROBLEMA**"
      ],
      "metadata": {
        "id": "2OakMuPApgvT"
      }
    },
    {
      "cell_type": "markdown",
      "source": [
        "###**OBJETIVO**"
      ],
      "metadata": {
        "id": "FBzgz9Ftpnt9"
      }
    },
    {
      "cell_type": "markdown",
      "source": [
        "Predecir el géreno de una canción a partir las carácterísticas de la misma."
      ],
      "metadata": {
        "id": "8r-mrQT7v1kH"
      }
    },
    {
      "cell_type": "markdown",
      "source": [
        "###**FUENTE**"
      ],
      "metadata": {
        "id": "gVo7Kri1psvU"
      }
    },
    {
      "cell_type": "markdown",
      "source": [
        "Los datos utilizados en este trabajo fueron obtenidos de Kaggle y se encuentran disponibles en el siguiente enlace: https://www.kaggle.com/datasets/purumalgi/music-genre-classification?resource=download&select=train.csv"
      ],
      "metadata": {
        "id": "stQsTsSK2-UX"
      }
    },
    {
      "cell_type": "markdown",
      "source": [
        "###Importación de librerías y carga de datos"
      ],
      "metadata": {
        "id": "Nf0OYC7YpxV5"
      }
    },
    {
      "cell_type": "code",
      "source": [
        "#Se importan librerías:\n",
        "import pandas as pd\n",
        "import numpy as np\n",
        "import seaborn as sb\n",
        "import matplotlib.pyplot as plt\n",
        "\n",
        "from matplotlib.ticker import PercentFormatter\n",
        "from sklearn.model_selection import train_test_split\n",
        "from sklearn.linear_model import LinearRegression\n",
        "from sklearn.ensemble import RandomForestRegressor\n",
        "from sklearn.impute import SimpleImputer\n",
        "from sklearn.preprocessing import MinMaxScaler"
      ],
      "metadata": {
        "id": "0RktyTTxvhBY"
      },
      "execution_count": 31,
      "outputs": []
    },
    {
      "cell_type": "code",
      "source": [
        "#Se cargan Datasets:\n",
        "url_train = \"https://raw.githubusercontent.com/Apolo073/Coderhouse_DataScience_EntregaFinal/refs/heads/main/train.csv\"\n",
        "url_test = \"https://raw.githubusercontent.com/Apolo073/Coderhouse_DataScience_EntregaFinal/refs/heads/main/test.csv\"\n",
        "url_submission = \"https://raw.githubusercontent.com/Apolo073/Coderhouse_DataScience_EntregaFinal/refs/heads/main/submission.csv\"\n",
        "\n",
        "train_df = pd.read_csv(url_train)\n",
        "test_df = pd.read_csv(url_test)\n",
        "submission_df = pd.read_csv(url_submission)"
      ],
      "metadata": {
        "id": "mvjcSgWTxHcj"
      },
      "execution_count": 3,
      "outputs": []
    },
    {
      "cell_type": "markdown",
      "source": [
        "### Número de filas/columnas"
      ],
      "metadata": {
        "id": "j4JeRZR1qL93"
      }
    },
    {
      "cell_type": "code",
      "source": [
        "train_df.shape"
      ],
      "metadata": {
        "colab": {
          "base_uri": "https://localhost:8080/"
        },
        "id": "qPJTcowi1Kc_",
        "outputId": "d7f279e2-22db-4721-b120-2488dbe4724d"
      },
      "execution_count": 4,
      "outputs": [
        {
          "output_type": "execute_result",
          "data": {
            "text/plain": [
              "(17996, 17)"
            ]
          },
          "metadata": {},
          "execution_count": 4
        }
      ]
    },
    {
      "cell_type": "code",
      "source": [
        "test_df.shape"
      ],
      "metadata": {
        "colab": {
          "base_uri": "https://localhost:8080/"
        },
        "id": "2x4nyTDo1m0C",
        "outputId": "a234aec4-0738-4d06-f960-51e60c498a98"
      },
      "execution_count": 5,
      "outputs": [
        {
          "output_type": "execute_result",
          "data": {
            "text/plain": [
              "(7713, 16)"
            ]
          },
          "metadata": {},
          "execution_count": 5
        }
      ]
    },
    {
      "cell_type": "code",
      "source": [
        "submission_df.shape"
      ],
      "metadata": {
        "colab": {
          "base_uri": "https://localhost:8080/"
        },
        "id": "2LgSFuk61mp2",
        "outputId": "cf1bb169-00b1-4120-fb5a-c35a112cd41c"
      },
      "execution_count": 6,
      "outputs": [
        {
          "output_type": "execute_result",
          "data": {
            "text/plain": [
              "(7713, 11)"
            ]
          },
          "metadata": {},
          "execution_count": 6
        }
      ]
    },
    {
      "cell_type": "markdown",
      "source": [
        "### Tipo de Datos"
      ],
      "metadata": {
        "id": "tLZS7Rvk17Px"
      }
    },
    {
      "cell_type": "code",
      "source": [
        "train_df.info()"
      ],
      "metadata": {
        "colab": {
          "base_uri": "https://localhost:8080/"
        },
        "id": "PutxHcHe1-8m",
        "outputId": "3b872a68-1f5d-4f44-af02-3e8071616907"
      },
      "execution_count": 7,
      "outputs": [
        {
          "output_type": "stream",
          "name": "stdout",
          "text": [
            "<class 'pandas.core.frame.DataFrame'>\n",
            "RangeIndex: 17996 entries, 0 to 17995\n",
            "Data columns (total 17 columns):\n",
            " #   Column              Non-Null Count  Dtype  \n",
            "---  ------              --------------  -----  \n",
            " 0   Artist Name         17996 non-null  object \n",
            " 1   Track Name          17996 non-null  object \n",
            " 2   Popularity          17568 non-null  float64\n",
            " 3   danceability        17996 non-null  float64\n",
            " 4   energy              17996 non-null  float64\n",
            " 5   key                 15982 non-null  float64\n",
            " 6   loudness            17996 non-null  float64\n",
            " 7   mode                17996 non-null  int64  \n",
            " 8   speechiness         17996 non-null  float64\n",
            " 9   acousticness        17996 non-null  float64\n",
            " 10  instrumentalness    13619 non-null  float64\n",
            " 11  liveness            17996 non-null  float64\n",
            " 12  valence             17996 non-null  float64\n",
            " 13  tempo               17996 non-null  float64\n",
            " 14  duration_in min/ms  17996 non-null  float64\n",
            " 15  time_signature      17996 non-null  int64  \n",
            " 16  Class               17996 non-null  int64  \n",
            "dtypes: float64(12), int64(3), object(2)\n",
            "memory usage: 2.3+ MB\n"
          ]
        }
      ]
    },
    {
      "cell_type": "code",
      "source": [
        "test_df.info()"
      ],
      "metadata": {
        "colab": {
          "base_uri": "https://localhost:8080/"
        },
        "id": "WcddK9bS2DHT",
        "outputId": "23bdce1e-ae66-4bf2-aeef-07788b3aa6c8"
      },
      "execution_count": 8,
      "outputs": [
        {
          "output_type": "stream",
          "name": "stdout",
          "text": [
            "<class 'pandas.core.frame.DataFrame'>\n",
            "RangeIndex: 7713 entries, 0 to 7712\n",
            "Data columns (total 16 columns):\n",
            " #   Column              Non-Null Count  Dtype  \n",
            "---  ------              --------------  -----  \n",
            " 0   Artist Name         7713 non-null   object \n",
            " 1   Track Name          7713 non-null   object \n",
            " 2   Popularity          7486 non-null   float64\n",
            " 3   danceability        7713 non-null   float64\n",
            " 4   energy              7713 non-null   float64\n",
            " 5   key                 6905 non-null   float64\n",
            " 6   loudness            7713 non-null   float64\n",
            " 7   mode                7713 non-null   int64  \n",
            " 8   speechiness         7713 non-null   float64\n",
            " 9   acousticness        7713 non-null   float64\n",
            " 10  instrumentalness    5804 non-null   float64\n",
            " 11  liveness            7713 non-null   float64\n",
            " 12  valence             7713 non-null   float64\n",
            " 13  tempo               7713 non-null   float64\n",
            " 14  duration_in min/ms  7713 non-null   float64\n",
            " 15  time_signature      7713 non-null   int64  \n",
            "dtypes: float64(12), int64(2), object(2)\n",
            "memory usage: 964.3+ KB\n"
          ]
        }
      ]
    },
    {
      "cell_type": "markdown",
      "source": [
        "***Se observan columnas con valores faltantes que deberán ser tratados.***"
      ],
      "metadata": {
        "id": "kdDCDC0-AbAf"
      }
    },
    {
      "cell_type": "code",
      "source": [
        "submission_df.info()"
      ],
      "metadata": {
        "colab": {
          "base_uri": "https://localhost:8080/"
        },
        "id": "1PyG3w0x1-4E",
        "outputId": "10a009cd-d5fc-4e6f-91dc-83354003a834"
      },
      "execution_count": 9,
      "outputs": [
        {
          "output_type": "stream",
          "name": "stdout",
          "text": [
            "<class 'pandas.core.frame.DataFrame'>\n",
            "RangeIndex: 7713 entries, 0 to 7712\n",
            "Data columns (total 11 columns):\n",
            " #   Column           Non-Null Count  Dtype\n",
            "---  ------           --------------  -----\n",
            " 0   Acoustic/Folk_0  7713 non-null   int64\n",
            " 1   Alt_Music_1      7713 non-null   int64\n",
            " 2   Blues_2          7713 non-null   int64\n",
            " 3   Bollywood_3      7713 non-null   int64\n",
            " 4   Country_4        7713 non-null   int64\n",
            " 5   HipHop_5         7713 non-null   int64\n",
            " 6   Indie Alt_6      7713 non-null   int64\n",
            " 7   Instrumental_7   7713 non-null   int64\n",
            " 8   Metal_8          7713 non-null   int64\n",
            " 9   Pop_9            7713 non-null   int64\n",
            " 10  Rock_10          7713 non-null   int64\n",
            "dtypes: int64(11)\n",
            "memory usage: 663.0 KB\n"
          ]
        }
      ]
    },
    {
      "cell_type": "markdown",
      "source": [
        "Diccionario - Mapeo de género"
      ],
      "metadata": {
        "id": "ZtZuLF_u6B05"
      }
    },
    {
      "cell_type": "code",
      "source": [
        "# Obtener los nombres de las columnas como una lista\n",
        "column_names = list(submission_df.columns)\n",
        "\n",
        "# Crear un diccionario de mapeo usando un bucle for\n",
        "mapping_dict = {}\n",
        "for index, name in enumerate(column_names):\n",
        "    key_part = name.split('_')[0]\n",
        "    mapping_dict[index] = key_part\n",
        "\n",
        "# Mapear la columna 'Class' a 'Genre' usando el diccionario de mapeo\n",
        "train_df['Genre'] = train_df['Class'].apply(lambda x: mapping_dict.get(x))"
      ],
      "metadata": {
        "id": "fEApB0nK8eLW"
      },
      "execution_count": 10,
      "outputs": []
    },
    {
      "cell_type": "markdown",
      "source": [
        "### Primeros Registros"
      ],
      "metadata": {
        "id": "nEnyUZ3_qPZA"
      }
    },
    {
      "cell_type": "code",
      "source": [
        "train_df.head(3)"
      ],
      "metadata": {
        "colab": {
          "base_uri": "https://localhost:8080/",
          "height": 354
        },
        "id": "X3TAAfPF3Ysi",
        "outputId": "ad0dce9c-824b-471c-9ed9-d84ba3e36e26"
      },
      "execution_count": 11,
      "outputs": [
        {
          "output_type": "execute_result",
          "data": {
            "text/plain": [
              "     Artist Name                             Track Name  Popularity  \\\n",
              "0     Bruno Mars  That's What I Like (feat. Gucci Mane)        60.0   \n",
              "1         Boston                           Hitch a Ride        54.0   \n",
              "2  The Raincoats                     No Side to Fall In        35.0   \n",
              "\n",
              "   danceability  energy  key  loudness  mode  speechiness  acousticness  \\\n",
              "0         0.854   0.564  1.0    -4.964     1       0.0485        0.0171   \n",
              "1         0.382   0.814  3.0    -7.230     1       0.0406        0.0011   \n",
              "2         0.434   0.614  6.0    -8.334     1       0.0525        0.4860   \n",
              "\n",
              "   instrumentalness  liveness  valence    tempo  duration_in min/ms  \\\n",
              "0               NaN    0.0849    0.899  134.071            234596.0   \n",
              "1          0.004010    0.1010    0.569  116.454            251733.0   \n",
              "2          0.000196    0.3940    0.787  147.681            109667.0   \n",
              "\n",
              "   time_signature  Class      Genre  \n",
              "0               4      5     HipHop  \n",
              "1               4     10       Rock  \n",
              "2               4      6  Indie Alt  "
            ],
            "text/html": [
              "\n",
              "  <div id=\"df-4f90d7c7-2fbc-462b-9525-3e60e71fe8ad\" class=\"colab-df-container\">\n",
              "    <div>\n",
              "<style scoped>\n",
              "    .dataframe tbody tr th:only-of-type {\n",
              "        vertical-align: middle;\n",
              "    }\n",
              "\n",
              "    .dataframe tbody tr th {\n",
              "        vertical-align: top;\n",
              "    }\n",
              "\n",
              "    .dataframe thead th {\n",
              "        text-align: right;\n",
              "    }\n",
              "</style>\n",
              "<table border=\"1\" class=\"dataframe\">\n",
              "  <thead>\n",
              "    <tr style=\"text-align: right;\">\n",
              "      <th></th>\n",
              "      <th>Artist Name</th>\n",
              "      <th>Track Name</th>\n",
              "      <th>Popularity</th>\n",
              "      <th>danceability</th>\n",
              "      <th>energy</th>\n",
              "      <th>key</th>\n",
              "      <th>loudness</th>\n",
              "      <th>mode</th>\n",
              "      <th>speechiness</th>\n",
              "      <th>acousticness</th>\n",
              "      <th>instrumentalness</th>\n",
              "      <th>liveness</th>\n",
              "      <th>valence</th>\n",
              "      <th>tempo</th>\n",
              "      <th>duration_in min/ms</th>\n",
              "      <th>time_signature</th>\n",
              "      <th>Class</th>\n",
              "      <th>Genre</th>\n",
              "    </tr>\n",
              "  </thead>\n",
              "  <tbody>\n",
              "    <tr>\n",
              "      <th>0</th>\n",
              "      <td>Bruno Mars</td>\n",
              "      <td>That's What I Like (feat. Gucci Mane)</td>\n",
              "      <td>60.0</td>\n",
              "      <td>0.854</td>\n",
              "      <td>0.564</td>\n",
              "      <td>1.0</td>\n",
              "      <td>-4.964</td>\n",
              "      <td>1</td>\n",
              "      <td>0.0485</td>\n",
              "      <td>0.0171</td>\n",
              "      <td>NaN</td>\n",
              "      <td>0.0849</td>\n",
              "      <td>0.899</td>\n",
              "      <td>134.071</td>\n",
              "      <td>234596.0</td>\n",
              "      <td>4</td>\n",
              "      <td>5</td>\n",
              "      <td>HipHop</td>\n",
              "    </tr>\n",
              "    <tr>\n",
              "      <th>1</th>\n",
              "      <td>Boston</td>\n",
              "      <td>Hitch a Ride</td>\n",
              "      <td>54.0</td>\n",
              "      <td>0.382</td>\n",
              "      <td>0.814</td>\n",
              "      <td>3.0</td>\n",
              "      <td>-7.230</td>\n",
              "      <td>1</td>\n",
              "      <td>0.0406</td>\n",
              "      <td>0.0011</td>\n",
              "      <td>0.004010</td>\n",
              "      <td>0.1010</td>\n",
              "      <td>0.569</td>\n",
              "      <td>116.454</td>\n",
              "      <td>251733.0</td>\n",
              "      <td>4</td>\n",
              "      <td>10</td>\n",
              "      <td>Rock</td>\n",
              "    </tr>\n",
              "    <tr>\n",
              "      <th>2</th>\n",
              "      <td>The Raincoats</td>\n",
              "      <td>No Side to Fall In</td>\n",
              "      <td>35.0</td>\n",
              "      <td>0.434</td>\n",
              "      <td>0.614</td>\n",
              "      <td>6.0</td>\n",
              "      <td>-8.334</td>\n",
              "      <td>1</td>\n",
              "      <td>0.0525</td>\n",
              "      <td>0.4860</td>\n",
              "      <td>0.000196</td>\n",
              "      <td>0.3940</td>\n",
              "      <td>0.787</td>\n",
              "      <td>147.681</td>\n",
              "      <td>109667.0</td>\n",
              "      <td>4</td>\n",
              "      <td>6</td>\n",
              "      <td>Indie Alt</td>\n",
              "    </tr>\n",
              "  </tbody>\n",
              "</table>\n",
              "</div>\n",
              "    <div class=\"colab-df-buttons\">\n",
              "\n",
              "  <div class=\"colab-df-container\">\n",
              "    <button class=\"colab-df-convert\" onclick=\"convertToInteractive('df-4f90d7c7-2fbc-462b-9525-3e60e71fe8ad')\"\n",
              "            title=\"Convert this dataframe to an interactive table.\"\n",
              "            style=\"display:none;\">\n",
              "\n",
              "  <svg xmlns=\"http://www.w3.org/2000/svg\" height=\"24px\" viewBox=\"0 -960 960 960\">\n",
              "    <path d=\"M120-120v-720h720v720H120Zm60-500h600v-160H180v160Zm220 220h160v-160H400v160Zm0 220h160v-160H400v160ZM180-400h160v-160H180v160Zm440 0h160v-160H620v160ZM180-180h160v-160H180v160Zm440 0h160v-160H620v160Z\"/>\n",
              "  </svg>\n",
              "    </button>\n",
              "\n",
              "  <style>\n",
              "    .colab-df-container {\n",
              "      display:flex;\n",
              "      gap: 12px;\n",
              "    }\n",
              "\n",
              "    .colab-df-convert {\n",
              "      background-color: #E8F0FE;\n",
              "      border: none;\n",
              "      border-radius: 50%;\n",
              "      cursor: pointer;\n",
              "      display: none;\n",
              "      fill: #1967D2;\n",
              "      height: 32px;\n",
              "      padding: 0 0 0 0;\n",
              "      width: 32px;\n",
              "    }\n",
              "\n",
              "    .colab-df-convert:hover {\n",
              "      background-color: #E2EBFA;\n",
              "      box-shadow: 0px 1px 2px rgba(60, 64, 67, 0.3), 0px 1px 3px 1px rgba(60, 64, 67, 0.15);\n",
              "      fill: #174EA6;\n",
              "    }\n",
              "\n",
              "    .colab-df-buttons div {\n",
              "      margin-bottom: 4px;\n",
              "    }\n",
              "\n",
              "    [theme=dark] .colab-df-convert {\n",
              "      background-color: #3B4455;\n",
              "      fill: #D2E3FC;\n",
              "    }\n",
              "\n",
              "    [theme=dark] .colab-df-convert:hover {\n",
              "      background-color: #434B5C;\n",
              "      box-shadow: 0px 1px 3px 1px rgba(0, 0, 0, 0.15);\n",
              "      filter: drop-shadow(0px 1px 2px rgba(0, 0, 0, 0.3));\n",
              "      fill: #FFFFFF;\n",
              "    }\n",
              "  </style>\n",
              "\n",
              "    <script>\n",
              "      const buttonEl =\n",
              "        document.querySelector('#df-4f90d7c7-2fbc-462b-9525-3e60e71fe8ad button.colab-df-convert');\n",
              "      buttonEl.style.display =\n",
              "        google.colab.kernel.accessAllowed ? 'block' : 'none';\n",
              "\n",
              "      async function convertToInteractive(key) {\n",
              "        const element = document.querySelector('#df-4f90d7c7-2fbc-462b-9525-3e60e71fe8ad');\n",
              "        const dataTable =\n",
              "          await google.colab.kernel.invokeFunction('convertToInteractive',\n",
              "                                                    [key], {});\n",
              "        if (!dataTable) return;\n",
              "\n",
              "        const docLinkHtml = 'Like what you see? Visit the ' +\n",
              "          '<a target=\"_blank\" href=https://colab.research.google.com/notebooks/data_table.ipynb>data table notebook</a>'\n",
              "          + ' to learn more about interactive tables.';\n",
              "        element.innerHTML = '';\n",
              "        dataTable['output_type'] = 'display_data';\n",
              "        await google.colab.output.renderOutput(dataTable, element);\n",
              "        const docLink = document.createElement('div');\n",
              "        docLink.innerHTML = docLinkHtml;\n",
              "        element.appendChild(docLink);\n",
              "      }\n",
              "    </script>\n",
              "  </div>\n",
              "\n",
              "\n",
              "<div id=\"df-8b3b0969-a2da-4a1f-804e-4c53bb56333b\">\n",
              "  <button class=\"colab-df-quickchart\" onclick=\"quickchart('df-8b3b0969-a2da-4a1f-804e-4c53bb56333b')\"\n",
              "            title=\"Suggest charts\"\n",
              "            style=\"display:none;\">\n",
              "\n",
              "<svg xmlns=\"http://www.w3.org/2000/svg\" height=\"24px\"viewBox=\"0 0 24 24\"\n",
              "     width=\"24px\">\n",
              "    <g>\n",
              "        <path d=\"M19 3H5c-1.1 0-2 .9-2 2v14c0 1.1.9 2 2 2h14c1.1 0 2-.9 2-2V5c0-1.1-.9-2-2-2zM9 17H7v-7h2v7zm4 0h-2V7h2v10zm4 0h-2v-4h2v4z\"/>\n",
              "    </g>\n",
              "</svg>\n",
              "  </button>\n",
              "\n",
              "<style>\n",
              "  .colab-df-quickchart {\n",
              "      --bg-color: #E8F0FE;\n",
              "      --fill-color: #1967D2;\n",
              "      --hover-bg-color: #E2EBFA;\n",
              "      --hover-fill-color: #174EA6;\n",
              "      --disabled-fill-color: #AAA;\n",
              "      --disabled-bg-color: #DDD;\n",
              "  }\n",
              "\n",
              "  [theme=dark] .colab-df-quickchart {\n",
              "      --bg-color: #3B4455;\n",
              "      --fill-color: #D2E3FC;\n",
              "      --hover-bg-color: #434B5C;\n",
              "      --hover-fill-color: #FFFFFF;\n",
              "      --disabled-bg-color: #3B4455;\n",
              "      --disabled-fill-color: #666;\n",
              "  }\n",
              "\n",
              "  .colab-df-quickchart {\n",
              "    background-color: var(--bg-color);\n",
              "    border: none;\n",
              "    border-radius: 50%;\n",
              "    cursor: pointer;\n",
              "    display: none;\n",
              "    fill: var(--fill-color);\n",
              "    height: 32px;\n",
              "    padding: 0;\n",
              "    width: 32px;\n",
              "  }\n",
              "\n",
              "  .colab-df-quickchart:hover {\n",
              "    background-color: var(--hover-bg-color);\n",
              "    box-shadow: 0 1px 2px rgba(60, 64, 67, 0.3), 0 1px 3px 1px rgba(60, 64, 67, 0.15);\n",
              "    fill: var(--button-hover-fill-color);\n",
              "  }\n",
              "\n",
              "  .colab-df-quickchart-complete:disabled,\n",
              "  .colab-df-quickchart-complete:disabled:hover {\n",
              "    background-color: var(--disabled-bg-color);\n",
              "    fill: var(--disabled-fill-color);\n",
              "    box-shadow: none;\n",
              "  }\n",
              "\n",
              "  .colab-df-spinner {\n",
              "    border: 2px solid var(--fill-color);\n",
              "    border-color: transparent;\n",
              "    border-bottom-color: var(--fill-color);\n",
              "    animation:\n",
              "      spin 1s steps(1) infinite;\n",
              "  }\n",
              "\n",
              "  @keyframes spin {\n",
              "    0% {\n",
              "      border-color: transparent;\n",
              "      border-bottom-color: var(--fill-color);\n",
              "      border-left-color: var(--fill-color);\n",
              "    }\n",
              "    20% {\n",
              "      border-color: transparent;\n",
              "      border-left-color: var(--fill-color);\n",
              "      border-top-color: var(--fill-color);\n",
              "    }\n",
              "    30% {\n",
              "      border-color: transparent;\n",
              "      border-left-color: var(--fill-color);\n",
              "      border-top-color: var(--fill-color);\n",
              "      border-right-color: var(--fill-color);\n",
              "    }\n",
              "    40% {\n",
              "      border-color: transparent;\n",
              "      border-right-color: var(--fill-color);\n",
              "      border-top-color: var(--fill-color);\n",
              "    }\n",
              "    60% {\n",
              "      border-color: transparent;\n",
              "      border-right-color: var(--fill-color);\n",
              "    }\n",
              "    80% {\n",
              "      border-color: transparent;\n",
              "      border-right-color: var(--fill-color);\n",
              "      border-bottom-color: var(--fill-color);\n",
              "    }\n",
              "    90% {\n",
              "      border-color: transparent;\n",
              "      border-bottom-color: var(--fill-color);\n",
              "    }\n",
              "  }\n",
              "</style>\n",
              "\n",
              "  <script>\n",
              "    async function quickchart(key) {\n",
              "      const quickchartButtonEl =\n",
              "        document.querySelector('#' + key + ' button');\n",
              "      quickchartButtonEl.disabled = true;  // To prevent multiple clicks.\n",
              "      quickchartButtonEl.classList.add('colab-df-spinner');\n",
              "      try {\n",
              "        const charts = await google.colab.kernel.invokeFunction(\n",
              "            'suggestCharts', [key], {});\n",
              "      } catch (error) {\n",
              "        console.error('Error during call to suggestCharts:', error);\n",
              "      }\n",
              "      quickchartButtonEl.classList.remove('colab-df-spinner');\n",
              "      quickchartButtonEl.classList.add('colab-df-quickchart-complete');\n",
              "    }\n",
              "    (() => {\n",
              "      let quickchartButtonEl =\n",
              "        document.querySelector('#df-8b3b0969-a2da-4a1f-804e-4c53bb56333b button');\n",
              "      quickchartButtonEl.style.display =\n",
              "        google.colab.kernel.accessAllowed ? 'block' : 'none';\n",
              "    })();\n",
              "  </script>\n",
              "</div>\n",
              "\n",
              "    </div>\n",
              "  </div>\n"
            ],
            "application/vnd.google.colaboratory.intrinsic+json": {
              "type": "dataframe",
              "variable_name": "train_df",
              "summary": "{\n  \"name\": \"train_df\",\n  \"rows\": 17996,\n  \"fields\": [\n    {\n      \"column\": \"Artist Name\",\n      \"properties\": {\n        \"dtype\": \"string\",\n        \"num_unique_values\": 9149,\n        \"samples\": [\n          \"Holiday Ghosts\",\n          \"C. Tangana\",\n          \"Pastime\"\n        ],\n        \"semantic_type\": \"\",\n        \"description\": \"\"\n      }\n    },\n    {\n      \"column\": \"Track Name\",\n      \"properties\": {\n        \"dtype\": \"string\",\n        \"num_unique_values\": 15129,\n        \"samples\": [\n          \"Out Of The Woods\",\n          \"Blue Eyes Crying In the Rain\",\n          \"Let Me Blow Ya Mind\"\n        ],\n        \"semantic_type\": \"\",\n        \"description\": \"\"\n      }\n    },\n    {\n      \"column\": \"Popularity\",\n      \"properties\": {\n        \"dtype\": \"number\",\n        \"std\": 17.426927709383666,\n        \"min\": 1.0,\n        \"max\": 100.0,\n        \"num_unique_values\": 100,\n        \"samples\": [\n          88.0,\n          52.0,\n          15.0\n        ],\n        \"semantic_type\": \"\",\n        \"description\": \"\"\n      }\n    },\n    {\n      \"column\": \"danceability\",\n      \"properties\": {\n        \"dtype\": \"number\",\n        \"std\": 0.16626847956751345,\n        \"min\": 0.0596,\n        \"max\": 0.989,\n        \"num_unique_values\": 909,\n        \"samples\": [\n          0.177,\n          0.721,\n          0.4\n        ],\n        \"semantic_type\": \"\",\n        \"description\": \"\"\n      }\n    },\n    {\n      \"column\": \"energy\",\n      \"properties\": {\n        \"dtype\": \"number\",\n        \"std\": 0.2353733749013086,\n        \"min\": 2.03e-05,\n        \"max\": 1.0,\n        \"num_unique_values\": 1208,\n        \"samples\": [\n          0.967,\n          0.82,\n          0.625\n        ],\n        \"semantic_type\": \"\",\n        \"description\": \"\"\n      }\n    },\n    {\n      \"column\": \"key\",\n      \"properties\": {\n        \"dtype\": \"number\",\n        \"std\": 3.1968542840061187,\n        \"min\": 1.0,\n        \"max\": 11.0,\n        \"num_unique_values\": 11,\n        \"samples\": [\n          5.0,\n          1.0,\n          8.0\n        ],\n        \"semantic_type\": \"\",\n        \"description\": \"\"\n      }\n    },\n    {\n      \"column\": \"loudness\",\n      \"properties\": {\n        \"dtype\": \"number\",\n        \"std\": 4.04915100620592,\n        \"min\": -39.952,\n        \"max\": 1.355,\n        \"num_unique_values\": 9002,\n        \"samples\": [\n          -10.316,\n          -4.53,\n          -4.252\n        ],\n        \"semantic_type\": \"\",\n        \"description\": \"\"\n      }\n    },\n    {\n      \"column\": \"mode\",\n      \"properties\": {\n        \"dtype\": \"number\",\n        \"std\": 0,\n        \"min\": 0,\n        \"max\": 1,\n        \"num_unique_values\": 2,\n        \"samples\": [\n          0,\n          1\n        ],\n        \"semantic_type\": \"\",\n        \"description\": \"\"\n      }\n    },\n    {\n      \"column\": \"speechiness\",\n      \"properties\": {\n        \"dtype\": \"number\",\n        \"std\": 0.0835760631270976,\n        \"min\": 0.0225,\n        \"max\": 0.955,\n        \"num_unique_values\": 1194,\n        \"samples\": [\n          0.0641,\n          0.247\n        ],\n        \"semantic_type\": \"\",\n        \"description\": \"\"\n      }\n    },\n    {\n      \"column\": \"acousticness\",\n      \"properties\": {\n        \"dtype\": \"number\",\n        \"std\": 0.3106322373703477,\n        \"min\": 0.0,\n        \"max\": 0.996,\n        \"num_unique_values\": 3930,\n        \"samples\": [\n          0.00296,\n          0.00184\n        ],\n        \"semantic_type\": \"\",\n        \"description\": \"\"\n      }\n    },\n    {\n      \"column\": \"instrumentalness\",\n      \"properties\": {\n        \"dtype\": \"number\",\n        \"std\": 0.30404842417698447,\n        \"min\": 1e-06,\n        \"max\": 0.996,\n        \"num_unique_values\": 4253,\n        \"samples\": [\n          6.68e-06,\n          5.53e-05\n        ],\n        \"semantic_type\": \"\",\n        \"description\": \"\"\n      }\n    },\n    {\n      \"column\": \"liveness\",\n      \"properties\": {\n        \"dtype\": \"number\",\n        \"std\": 0.15921166949811089,\n        \"min\": 0.0119,\n        \"max\": 1.0,\n        \"num_unique_values\": 1459,\n        \"samples\": [\n          0.0356,\n          0.0422\n        ],\n        \"semantic_type\": \"\",\n        \"description\": \"\"\n      }\n    },\n    {\n      \"column\": \"valence\",\n      \"properties\": {\n        \"dtype\": \"number\",\n        \"std\": 0.2401952551415865,\n        \"min\": 0.0183,\n        \"max\": 0.986,\n        \"num_unique_values\": 1320,\n        \"samples\": [\n          0.806,\n          0.137\n        ],\n        \"semantic_type\": \"\",\n        \"description\": \"\"\n      }\n    },\n    {\n      \"column\": \"tempo\",\n      \"properties\": {\n        \"dtype\": \"number\",\n        \"std\": 29.571527344026087,\n        \"min\": 30.557,\n        \"max\": 217.416,\n        \"num_unique_values\": 13562,\n        \"samples\": [\n          88.011,\n          121.964\n        ],\n        \"semantic_type\": \"\",\n        \"description\": \"\"\n      }\n    },\n    {\n      \"column\": \"duration_in min/ms\",\n      \"properties\": {\n        \"dtype\": \"number\",\n        \"std\": 111989.12713055,\n        \"min\": 0.50165,\n        \"max\": 1477187.0,\n        \"num_unique_values\": 14121,\n        \"samples\": [\n          199757.0,\n          140760.0\n        ],\n        \"semantic_type\": \"\",\n        \"description\": \"\"\n      }\n    },\n    {\n      \"column\": \"time_signature\",\n      \"properties\": {\n        \"dtype\": \"number\",\n        \"std\": 0,\n        \"min\": 1,\n        \"max\": 5,\n        \"num_unique_values\": 4,\n        \"samples\": [\n          3,\n          5\n        ],\n        \"semantic_type\": \"\",\n        \"description\": \"\"\n      }\n    },\n    {\n      \"column\": \"Class\",\n      \"properties\": {\n        \"dtype\": \"number\",\n        \"std\": 3,\n        \"min\": 0,\n        \"max\": 10,\n        \"num_unique_values\": 11,\n        \"samples\": [\n          8,\n          5\n        ],\n        \"semantic_type\": \"\",\n        \"description\": \"\"\n      }\n    },\n    {\n      \"column\": \"Genre\",\n      \"properties\": {\n        \"dtype\": \"category\",\n        \"num_unique_values\": 11,\n        \"samples\": [\n          \"Metal\",\n          \"HipHop\"\n        ],\n        \"semantic_type\": \"\",\n        \"description\": \"\"\n      }\n    }\n  ]\n}"
            }
          },
          "metadata": {},
          "execution_count": 11
        }
      ]
    },
    {
      "cell_type": "code",
      "source": [
        "test_df.head(3)"
      ],
      "metadata": {
        "colab": {
          "base_uri": "https://localhost:8080/",
          "height": 302
        },
        "id": "M6Fmf5je3YkO",
        "outputId": "9e6dc521-20b3-45ea-e3fa-32e0e020ca8d"
      },
      "execution_count": 12,
      "outputs": [
        {
          "output_type": "execute_result",
          "data": {
            "text/plain": [
              "   Artist Name                    Track Name  Popularity  danceability  \\\n",
              "0  David Bowie  Space Oddity - 2015 Remaster        73.0         0.310   \n",
              "1  Crimson Sun           Essence of Creation        34.0         0.511   \n",
              "2         P!nk              Raise Your Glass        78.0         0.700   \n",
              "\n",
              "   energy  key  loudness  mode  speechiness  acousticness  instrumentalness  \\\n",
              "0   0.403  NaN   -13.664     1       0.0326        0.0726          0.000093   \n",
              "1   0.955  1.0    -5.059     1       0.1290        0.0004          0.000009   \n",
              "2   0.709  7.0    -5.006     1       0.0839        0.0048               NaN   \n",
              "\n",
              "   liveness  valence    tempo  duration_in min/ms  time_signature  \n",
              "0    0.1390    0.466  134.480            318027.0               4  \n",
              "1    0.2630    0.291  151.937            220413.0               4  \n",
              "2    0.0289    0.625  122.019            202960.0               4  "
            ],
            "text/html": [
              "\n",
              "  <div id=\"df-e20d28f2-2655-47e3-9c58-965a094e46d1\" class=\"colab-df-container\">\n",
              "    <div>\n",
              "<style scoped>\n",
              "    .dataframe tbody tr th:only-of-type {\n",
              "        vertical-align: middle;\n",
              "    }\n",
              "\n",
              "    .dataframe tbody tr th {\n",
              "        vertical-align: top;\n",
              "    }\n",
              "\n",
              "    .dataframe thead th {\n",
              "        text-align: right;\n",
              "    }\n",
              "</style>\n",
              "<table border=\"1\" class=\"dataframe\">\n",
              "  <thead>\n",
              "    <tr style=\"text-align: right;\">\n",
              "      <th></th>\n",
              "      <th>Artist Name</th>\n",
              "      <th>Track Name</th>\n",
              "      <th>Popularity</th>\n",
              "      <th>danceability</th>\n",
              "      <th>energy</th>\n",
              "      <th>key</th>\n",
              "      <th>loudness</th>\n",
              "      <th>mode</th>\n",
              "      <th>speechiness</th>\n",
              "      <th>acousticness</th>\n",
              "      <th>instrumentalness</th>\n",
              "      <th>liveness</th>\n",
              "      <th>valence</th>\n",
              "      <th>tempo</th>\n",
              "      <th>duration_in min/ms</th>\n",
              "      <th>time_signature</th>\n",
              "    </tr>\n",
              "  </thead>\n",
              "  <tbody>\n",
              "    <tr>\n",
              "      <th>0</th>\n",
              "      <td>David Bowie</td>\n",
              "      <td>Space Oddity - 2015 Remaster</td>\n",
              "      <td>73.0</td>\n",
              "      <td>0.310</td>\n",
              "      <td>0.403</td>\n",
              "      <td>NaN</td>\n",
              "      <td>-13.664</td>\n",
              "      <td>1</td>\n",
              "      <td>0.0326</td>\n",
              "      <td>0.0726</td>\n",
              "      <td>0.000093</td>\n",
              "      <td>0.1390</td>\n",
              "      <td>0.466</td>\n",
              "      <td>134.480</td>\n",
              "      <td>318027.0</td>\n",
              "      <td>4</td>\n",
              "    </tr>\n",
              "    <tr>\n",
              "      <th>1</th>\n",
              "      <td>Crimson Sun</td>\n",
              "      <td>Essence of Creation</td>\n",
              "      <td>34.0</td>\n",
              "      <td>0.511</td>\n",
              "      <td>0.955</td>\n",
              "      <td>1.0</td>\n",
              "      <td>-5.059</td>\n",
              "      <td>1</td>\n",
              "      <td>0.1290</td>\n",
              "      <td>0.0004</td>\n",
              "      <td>0.000009</td>\n",
              "      <td>0.2630</td>\n",
              "      <td>0.291</td>\n",
              "      <td>151.937</td>\n",
              "      <td>220413.0</td>\n",
              "      <td>4</td>\n",
              "    </tr>\n",
              "    <tr>\n",
              "      <th>2</th>\n",
              "      <td>P!nk</td>\n",
              "      <td>Raise Your Glass</td>\n",
              "      <td>78.0</td>\n",
              "      <td>0.700</td>\n",
              "      <td>0.709</td>\n",
              "      <td>7.0</td>\n",
              "      <td>-5.006</td>\n",
              "      <td>1</td>\n",
              "      <td>0.0839</td>\n",
              "      <td>0.0048</td>\n",
              "      <td>NaN</td>\n",
              "      <td>0.0289</td>\n",
              "      <td>0.625</td>\n",
              "      <td>122.019</td>\n",
              "      <td>202960.0</td>\n",
              "      <td>4</td>\n",
              "    </tr>\n",
              "  </tbody>\n",
              "</table>\n",
              "</div>\n",
              "    <div class=\"colab-df-buttons\">\n",
              "\n",
              "  <div class=\"colab-df-container\">\n",
              "    <button class=\"colab-df-convert\" onclick=\"convertToInteractive('df-e20d28f2-2655-47e3-9c58-965a094e46d1')\"\n",
              "            title=\"Convert this dataframe to an interactive table.\"\n",
              "            style=\"display:none;\">\n",
              "\n",
              "  <svg xmlns=\"http://www.w3.org/2000/svg\" height=\"24px\" viewBox=\"0 -960 960 960\">\n",
              "    <path d=\"M120-120v-720h720v720H120Zm60-500h600v-160H180v160Zm220 220h160v-160H400v160Zm0 220h160v-160H400v160ZM180-400h160v-160H180v160Zm440 0h160v-160H620v160ZM180-180h160v-160H180v160Zm440 0h160v-160H620v160Z\"/>\n",
              "  </svg>\n",
              "    </button>\n",
              "\n",
              "  <style>\n",
              "    .colab-df-container {\n",
              "      display:flex;\n",
              "      gap: 12px;\n",
              "    }\n",
              "\n",
              "    .colab-df-convert {\n",
              "      background-color: #E8F0FE;\n",
              "      border: none;\n",
              "      border-radius: 50%;\n",
              "      cursor: pointer;\n",
              "      display: none;\n",
              "      fill: #1967D2;\n",
              "      height: 32px;\n",
              "      padding: 0 0 0 0;\n",
              "      width: 32px;\n",
              "    }\n",
              "\n",
              "    .colab-df-convert:hover {\n",
              "      background-color: #E2EBFA;\n",
              "      box-shadow: 0px 1px 2px rgba(60, 64, 67, 0.3), 0px 1px 3px 1px rgba(60, 64, 67, 0.15);\n",
              "      fill: #174EA6;\n",
              "    }\n",
              "\n",
              "    .colab-df-buttons div {\n",
              "      margin-bottom: 4px;\n",
              "    }\n",
              "\n",
              "    [theme=dark] .colab-df-convert {\n",
              "      background-color: #3B4455;\n",
              "      fill: #D2E3FC;\n",
              "    }\n",
              "\n",
              "    [theme=dark] .colab-df-convert:hover {\n",
              "      background-color: #434B5C;\n",
              "      box-shadow: 0px 1px 3px 1px rgba(0, 0, 0, 0.15);\n",
              "      filter: drop-shadow(0px 1px 2px rgba(0, 0, 0, 0.3));\n",
              "      fill: #FFFFFF;\n",
              "    }\n",
              "  </style>\n",
              "\n",
              "    <script>\n",
              "      const buttonEl =\n",
              "        document.querySelector('#df-e20d28f2-2655-47e3-9c58-965a094e46d1 button.colab-df-convert');\n",
              "      buttonEl.style.display =\n",
              "        google.colab.kernel.accessAllowed ? 'block' : 'none';\n",
              "\n",
              "      async function convertToInteractive(key) {\n",
              "        const element = document.querySelector('#df-e20d28f2-2655-47e3-9c58-965a094e46d1');\n",
              "        const dataTable =\n",
              "          await google.colab.kernel.invokeFunction('convertToInteractive',\n",
              "                                                    [key], {});\n",
              "        if (!dataTable) return;\n",
              "\n",
              "        const docLinkHtml = 'Like what you see? Visit the ' +\n",
              "          '<a target=\"_blank\" href=https://colab.research.google.com/notebooks/data_table.ipynb>data table notebook</a>'\n",
              "          + ' to learn more about interactive tables.';\n",
              "        element.innerHTML = '';\n",
              "        dataTable['output_type'] = 'display_data';\n",
              "        await google.colab.output.renderOutput(dataTable, element);\n",
              "        const docLink = document.createElement('div');\n",
              "        docLink.innerHTML = docLinkHtml;\n",
              "        element.appendChild(docLink);\n",
              "      }\n",
              "    </script>\n",
              "  </div>\n",
              "\n",
              "\n",
              "<div id=\"df-70964968-18a3-46de-94e4-71235733a39e\">\n",
              "  <button class=\"colab-df-quickchart\" onclick=\"quickchart('df-70964968-18a3-46de-94e4-71235733a39e')\"\n",
              "            title=\"Suggest charts\"\n",
              "            style=\"display:none;\">\n",
              "\n",
              "<svg xmlns=\"http://www.w3.org/2000/svg\" height=\"24px\"viewBox=\"0 0 24 24\"\n",
              "     width=\"24px\">\n",
              "    <g>\n",
              "        <path d=\"M19 3H5c-1.1 0-2 .9-2 2v14c0 1.1.9 2 2 2h14c1.1 0 2-.9 2-2V5c0-1.1-.9-2-2-2zM9 17H7v-7h2v7zm4 0h-2V7h2v10zm4 0h-2v-4h2v4z\"/>\n",
              "    </g>\n",
              "</svg>\n",
              "  </button>\n",
              "\n",
              "<style>\n",
              "  .colab-df-quickchart {\n",
              "      --bg-color: #E8F0FE;\n",
              "      --fill-color: #1967D2;\n",
              "      --hover-bg-color: #E2EBFA;\n",
              "      --hover-fill-color: #174EA6;\n",
              "      --disabled-fill-color: #AAA;\n",
              "      --disabled-bg-color: #DDD;\n",
              "  }\n",
              "\n",
              "  [theme=dark] .colab-df-quickchart {\n",
              "      --bg-color: #3B4455;\n",
              "      --fill-color: #D2E3FC;\n",
              "      --hover-bg-color: #434B5C;\n",
              "      --hover-fill-color: #FFFFFF;\n",
              "      --disabled-bg-color: #3B4455;\n",
              "      --disabled-fill-color: #666;\n",
              "  }\n",
              "\n",
              "  .colab-df-quickchart {\n",
              "    background-color: var(--bg-color);\n",
              "    border: none;\n",
              "    border-radius: 50%;\n",
              "    cursor: pointer;\n",
              "    display: none;\n",
              "    fill: var(--fill-color);\n",
              "    height: 32px;\n",
              "    padding: 0;\n",
              "    width: 32px;\n",
              "  }\n",
              "\n",
              "  .colab-df-quickchart:hover {\n",
              "    background-color: var(--hover-bg-color);\n",
              "    box-shadow: 0 1px 2px rgba(60, 64, 67, 0.3), 0 1px 3px 1px rgba(60, 64, 67, 0.15);\n",
              "    fill: var(--button-hover-fill-color);\n",
              "  }\n",
              "\n",
              "  .colab-df-quickchart-complete:disabled,\n",
              "  .colab-df-quickchart-complete:disabled:hover {\n",
              "    background-color: var(--disabled-bg-color);\n",
              "    fill: var(--disabled-fill-color);\n",
              "    box-shadow: none;\n",
              "  }\n",
              "\n",
              "  .colab-df-spinner {\n",
              "    border: 2px solid var(--fill-color);\n",
              "    border-color: transparent;\n",
              "    border-bottom-color: var(--fill-color);\n",
              "    animation:\n",
              "      spin 1s steps(1) infinite;\n",
              "  }\n",
              "\n",
              "  @keyframes spin {\n",
              "    0% {\n",
              "      border-color: transparent;\n",
              "      border-bottom-color: var(--fill-color);\n",
              "      border-left-color: var(--fill-color);\n",
              "    }\n",
              "    20% {\n",
              "      border-color: transparent;\n",
              "      border-left-color: var(--fill-color);\n",
              "      border-top-color: var(--fill-color);\n",
              "    }\n",
              "    30% {\n",
              "      border-color: transparent;\n",
              "      border-left-color: var(--fill-color);\n",
              "      border-top-color: var(--fill-color);\n",
              "      border-right-color: var(--fill-color);\n",
              "    }\n",
              "    40% {\n",
              "      border-color: transparent;\n",
              "      border-right-color: var(--fill-color);\n",
              "      border-top-color: var(--fill-color);\n",
              "    }\n",
              "    60% {\n",
              "      border-color: transparent;\n",
              "      border-right-color: var(--fill-color);\n",
              "    }\n",
              "    80% {\n",
              "      border-color: transparent;\n",
              "      border-right-color: var(--fill-color);\n",
              "      border-bottom-color: var(--fill-color);\n",
              "    }\n",
              "    90% {\n",
              "      border-color: transparent;\n",
              "      border-bottom-color: var(--fill-color);\n",
              "    }\n",
              "  }\n",
              "</style>\n",
              "\n",
              "  <script>\n",
              "    async function quickchart(key) {\n",
              "      const quickchartButtonEl =\n",
              "        document.querySelector('#' + key + ' button');\n",
              "      quickchartButtonEl.disabled = true;  // To prevent multiple clicks.\n",
              "      quickchartButtonEl.classList.add('colab-df-spinner');\n",
              "      try {\n",
              "        const charts = await google.colab.kernel.invokeFunction(\n",
              "            'suggestCharts', [key], {});\n",
              "      } catch (error) {\n",
              "        console.error('Error during call to suggestCharts:', error);\n",
              "      }\n",
              "      quickchartButtonEl.classList.remove('colab-df-spinner');\n",
              "      quickchartButtonEl.classList.add('colab-df-quickchart-complete');\n",
              "    }\n",
              "    (() => {\n",
              "      let quickchartButtonEl =\n",
              "        document.querySelector('#df-70964968-18a3-46de-94e4-71235733a39e button');\n",
              "      quickchartButtonEl.style.display =\n",
              "        google.colab.kernel.accessAllowed ? 'block' : 'none';\n",
              "    })();\n",
              "  </script>\n",
              "</div>\n",
              "\n",
              "    </div>\n",
              "  </div>\n"
            ],
            "application/vnd.google.colaboratory.intrinsic+json": {
              "type": "dataframe",
              "variable_name": "test_df",
              "summary": "{\n  \"name\": \"test_df\",\n  \"rows\": 7713,\n  \"fields\": [\n    {\n      \"column\": \"Artist Name\",\n      \"properties\": {\n        \"dtype\": \"string\",\n        \"num_unique_values\": 5010,\n        \"samples\": [\n          \"Maisie Peters\",\n          \"SADBOii\",\n          \"Amy Shark\"\n        ],\n        \"semantic_type\": \"\",\n        \"description\": \"\"\n      }\n    },\n    {\n      \"column\": \"Track Name\",\n      \"properties\": {\n        \"dtype\": \"string\",\n        \"num_unique_values\": 7095,\n        \"samples\": [\n          \"Nothing Else Matters\",\n          \"Blooming\",\n          \"Jealous\"\n        ],\n        \"semantic_type\": \"\",\n        \"description\": \"\"\n      }\n    },\n    {\n      \"column\": \"Popularity\",\n      \"properties\": {\n        \"dtype\": \"number\",\n        \"std\": 17.40170742942649,\n        \"min\": 1.0,\n        \"max\": 100.0,\n        \"num_unique_values\": 100,\n        \"samples\": [\n          5.0,\n          16.0,\n          14.0\n        ],\n        \"semantic_type\": \"\",\n        \"description\": \"\"\n      }\n    },\n    {\n      \"column\": \"danceability\",\n      \"properties\": {\n        \"dtype\": \"number\",\n        \"std\": 0.16490600327512886,\n        \"min\": 0.0,\n        \"max\": 0.975,\n        \"num_unique_values\": 831,\n        \"samples\": [\n          0.331,\n          0.228,\n          0.58\n        ],\n        \"semantic_type\": \"\",\n        \"description\": \"\"\n      }\n    },\n    {\n      \"column\": \"energy\",\n      \"properties\": {\n        \"dtype\": \"number\",\n        \"std\": 0.23482231109215976,\n        \"min\": 2.02e-05,\n        \"max\": 1.0,\n        \"num_unique_values\": 1027,\n        \"samples\": [\n          0.541,\n          0.668,\n          0.0291\n        ],\n        \"semantic_type\": \"\",\n        \"description\": \"\"\n      }\n    },\n    {\n      \"column\": \"key\",\n      \"properties\": {\n        \"dtype\": \"number\",\n        \"std\": 3.2387348209293747,\n        \"min\": 1.0,\n        \"max\": 11.0,\n        \"num_unique_values\": 11,\n        \"samples\": [\n          9.0,\n          1.0,\n          5.0\n        ],\n        \"semantic_type\": \"\",\n        \"description\": \"\"\n      }\n    },\n    {\n      \"column\": \"loudness\",\n      \"properties\": {\n        \"dtype\": \"number\",\n        \"std\": 3.9823631037190967,\n        \"min\": -36.544,\n        \"max\": 0.878,\n        \"num_unique_values\": 5420,\n        \"samples\": [\n          -16.551,\n          -6.9,\n          -9.06\n        ],\n        \"semantic_type\": \"\",\n        \"description\": \"\"\n      }\n    },\n    {\n      \"column\": \"mode\",\n      \"properties\": {\n        \"dtype\": \"number\",\n        \"std\": 0,\n        \"min\": 0,\n        \"max\": 1,\n        \"num_unique_values\": 2,\n        \"samples\": [\n          0,\n          1\n        ],\n        \"semantic_type\": \"\",\n        \"description\": \"\"\n      }\n    },\n    {\n      \"column\": \"speechiness\",\n      \"properties\": {\n        \"dtype\": \"number\",\n        \"std\": 0.08422842039149168,\n        \"min\": 0.0,\n        \"max\": 0.96,\n        \"num_unique_values\": 1098,\n        \"samples\": [\n          0.0406,\n          0.0725\n        ],\n        \"semantic_type\": \"\",\n        \"description\": \"\"\n      }\n    },\n    {\n      \"column\": \"acousticness\",\n      \"properties\": {\n        \"dtype\": \"number\",\n        \"std\": 0.3080056789974397,\n        \"min\": 0.0,\n        \"max\": 0.995,\n        \"num_unique_values\": 3000,\n        \"samples\": [\n          0.000378,\n          0.753\n        ],\n        \"semantic_type\": \"\",\n        \"description\": \"\"\n      }\n    },\n    {\n      \"column\": \"instrumentalness\",\n      \"properties\": {\n        \"dtype\": \"number\",\n        \"std\": 0.29801138833623336,\n        \"min\": 1.01e-06,\n        \"max\": 0.987,\n        \"num_unique_values\": 3080,\n        \"samples\": [\n          0.00601,\n          8.57e-06\n        ],\n        \"semantic_type\": \"\",\n        \"description\": \"\"\n      }\n    },\n    {\n      \"column\": \"liveness\",\n      \"properties\": {\n        \"dtype\": \"number\",\n        \"std\": 0.16139890227351208,\n        \"min\": 0.0169,\n        \"max\": 0.992,\n        \"num_unique_values\": 1213,\n        \"samples\": [\n          0.212,\n          0.0598\n        ],\n        \"semantic_type\": \"\",\n        \"description\": \"\"\n      }\n    },\n    {\n      \"column\": \"valence\",\n      \"properties\": {\n        \"dtype\": \"number\",\n        \"std\": 0.23799643850829827,\n        \"min\": 0.0,\n        \"max\": 0.982,\n        \"num_unique_values\": 1135,\n        \"samples\": [\n          0.556,\n          0.136\n        ],\n        \"semantic_type\": \"\",\n        \"description\": \"\"\n      }\n    },\n    {\n      \"column\": \"tempo\",\n      \"properties\": {\n        \"dtype\": \"number\",\n        \"std\": 29.723546969539523,\n        \"min\": 0.0,\n        \"max\": 249.438,\n        \"num_unique_values\": 6705,\n        \"samples\": [\n          91.854,\n          133.134\n        ],\n        \"semantic_type\": \"\",\n        \"description\": \"\"\n      }\n    },\n    {\n      \"column\": \"duration_in min/ms\",\n      \"properties\": {\n        \"dtype\": \"number\",\n        \"std\": 113110.01274340281,\n        \"min\": 0.68745,\n        \"max\": 1561133.0,\n        \"num_unique_values\": 6869,\n        \"samples\": [\n          240880.0,\n          3.87555\n        ],\n        \"semantic_type\": \"\",\n        \"description\": \"\"\n      }\n    },\n    {\n      \"column\": \"time_signature\",\n      \"properties\": {\n        \"dtype\": \"number\",\n        \"std\": 0,\n        \"min\": 0,\n        \"max\": 5,\n        \"num_unique_values\": 5,\n        \"samples\": [\n          3,\n          0\n        ],\n        \"semantic_type\": \"\",\n        \"description\": \"\"\n      }\n    }\n  ]\n}"
            }
          },
          "metadata": {},
          "execution_count": 12
        }
      ]
    },
    {
      "cell_type": "markdown",
      "source": [
        "### Cuenta de valores Nulos"
      ],
      "metadata": {
        "id": "ktvEkdA7qkUA"
      }
    },
    {
      "cell_type": "code",
      "source": [
        "# Contar los valores nulos por columna\n",
        "null_counts_train = train_df.isnull().sum()\n",
        "print(null_counts_train)"
      ],
      "metadata": {
        "id": "fDJjyZ2T-joH",
        "outputId": "53e74415-2107-4246-8fb1-7f2ac5c20d5b",
        "colab": {
          "base_uri": "https://localhost:8080/"
        }
      },
      "execution_count": 15,
      "outputs": [
        {
          "output_type": "stream",
          "name": "stdout",
          "text": [
            "Artist Name              0\n",
            "Track Name               0\n",
            "Popularity             428\n",
            "danceability             0\n",
            "energy                   0\n",
            "key                   2014\n",
            "loudness                 0\n",
            "mode                     0\n",
            "speechiness              0\n",
            "acousticness             0\n",
            "instrumentalness      4377\n",
            "liveness                 0\n",
            "valence                  0\n",
            "tempo                    0\n",
            "duration_in min/ms       0\n",
            "time_signature           0\n",
            "Class                    0\n",
            "Genre                    0\n",
            "dtype: int64\n"
          ]
        }
      ]
    },
    {
      "cell_type": "code",
      "source": [
        "null_counts_test = test_df.isnull().sum()\n",
        "print(null_counts_test)"
      ],
      "metadata": {
        "id": "stc5ltmY_XQ5",
        "outputId": "9c351629-9f7c-4e2e-b239-00b5d427c414",
        "colab": {
          "base_uri": "https://localhost:8080/"
        }
      },
      "execution_count": 16,
      "outputs": [
        {
          "output_type": "stream",
          "name": "stdout",
          "text": [
            "Artist Name              0\n",
            "Track Name               0\n",
            "Popularity             227\n",
            "danceability             0\n",
            "energy                   0\n",
            "key                    808\n",
            "loudness                 0\n",
            "mode                     0\n",
            "speechiness              0\n",
            "acousticness             0\n",
            "instrumentalness      1909\n",
            "liveness                 0\n",
            "valence                  0\n",
            "tempo                    0\n",
            "duration_in min/ms       0\n",
            "time_signature           0\n",
            "dtype: int64\n"
          ]
        }
      ]
    },
    {
      "cell_type": "markdown",
      "source": [
        "## **2) DATA ADQUISITION / DATA WRANGLING**"
      ],
      "metadata": {
        "id": "l0vylWnsCZTN"
      }
    },
    {
      "cell_type": "markdown",
      "source": [
        "### Outliers"
      ],
      "metadata": {
        "id": "SVN_Rha9rbIi"
      }
    },
    {
      "cell_type": "code",
      "source": [
        "# Se Calcula el porcentaje de outliers para las columnas numéricas de un DataFrame utilizando el criterio del rango intercuartílico (IQR), excluyendo variables binarias.\n",
        "\n",
        "def calcular_outliers_iqr(train_df):\n",
        "    resultados = []\n",
        "\n",
        "    for columna in train_df.select_dtypes(include='number').columns:\n",
        "        # Excluir variables binarias\n",
        "        if train_df[columna].nunique() == 2:\n",
        "            continue\n",
        "\n",
        "        q1 = train_df[columna].quantile(0.25)\n",
        "        q3 = train_df[columna].quantile(0.75)\n",
        "        iqr = q3 - q1\n",
        "        limite_inferior = q1 - 1.5 * iqr\n",
        "        limite_superior = q3 + 1.5 * iqr\n",
        "\n",
        "        # Calcular el porcentaje de outliers\n",
        "        outliers = train_df[(train_df[columna] < limite_inferior) | (train_df[columna] > limite_superior)]\n",
        "        porcentaje_outliers = (len(outliers) / len(train_df)) * 100\n",
        "        resultados.append((columna, porcentaje_outliers))\n",
        "\n",
        "    # Convertir a DataFrame y ordenar por porcentaje de outliers\n",
        "    outliers_df = pd.DataFrame(resultados, columns=['Columna', 'Porcentaje_Outliers'])\n",
        "    outliers_df = outliers_df[outliers_df['Porcentaje_Outliers'] > 0]\n",
        "    outliers_df = outliers_df.sort_values(by='Porcentaje_Outliers', ascending=False).reset_index(drop=True)\n",
        "\n",
        "    return outliers_df"
      ],
      "metadata": {
        "id": "_WW_EVrAJ2p0"
      },
      "execution_count": 27,
      "outputs": []
    },
    {
      "cell_type": "code",
      "source": [
        "calcular_outliers_iqr(train_df)"
      ],
      "metadata": {
        "id": "yW-5eYGrMPb1",
        "outputId": "0779fd92-ae2c-49a8-eb5c-d2e70bc6fa5c",
        "colab": {
          "base_uri": "https://localhost:8080/",
          "height": 331
        }
      },
      "execution_count": 25,
      "outputs": [
        {
          "output_type": "execute_result",
          "data": {
            "text/plain": [
              "              Columna  Porcentaje_Outliers\n",
              "0  duration_in min/ms            18.031785\n",
              "1    instrumentalness            13.380751\n",
              "2         speechiness            11.302512\n",
              "3      time_signature             8.585241\n",
              "4            liveness             5.312292\n",
              "5            loudness             4.545455\n",
              "6          Popularity             0.227828\n",
              "7               tempo             0.200044\n",
              "8        danceability             0.172261"
            ],
            "text/html": [
              "\n",
              "  <div id=\"df-8ca7c6ef-ebc6-4440-b7cb-2eeed4b4ae38\" class=\"colab-df-container\">\n",
              "    <div>\n",
              "<style scoped>\n",
              "    .dataframe tbody tr th:only-of-type {\n",
              "        vertical-align: middle;\n",
              "    }\n",
              "\n",
              "    .dataframe tbody tr th {\n",
              "        vertical-align: top;\n",
              "    }\n",
              "\n",
              "    .dataframe thead th {\n",
              "        text-align: right;\n",
              "    }\n",
              "</style>\n",
              "<table border=\"1\" class=\"dataframe\">\n",
              "  <thead>\n",
              "    <tr style=\"text-align: right;\">\n",
              "      <th></th>\n",
              "      <th>Columna</th>\n",
              "      <th>Porcentaje_Outliers</th>\n",
              "    </tr>\n",
              "  </thead>\n",
              "  <tbody>\n",
              "    <tr>\n",
              "      <th>0</th>\n",
              "      <td>duration_in min/ms</td>\n",
              "      <td>18.031785</td>\n",
              "    </tr>\n",
              "    <tr>\n",
              "      <th>1</th>\n",
              "      <td>instrumentalness</td>\n",
              "      <td>13.380751</td>\n",
              "    </tr>\n",
              "    <tr>\n",
              "      <th>2</th>\n",
              "      <td>speechiness</td>\n",
              "      <td>11.302512</td>\n",
              "    </tr>\n",
              "    <tr>\n",
              "      <th>3</th>\n",
              "      <td>time_signature</td>\n",
              "      <td>8.585241</td>\n",
              "    </tr>\n",
              "    <tr>\n",
              "      <th>4</th>\n",
              "      <td>liveness</td>\n",
              "      <td>5.312292</td>\n",
              "    </tr>\n",
              "    <tr>\n",
              "      <th>5</th>\n",
              "      <td>loudness</td>\n",
              "      <td>4.545455</td>\n",
              "    </tr>\n",
              "    <tr>\n",
              "      <th>6</th>\n",
              "      <td>Popularity</td>\n",
              "      <td>0.227828</td>\n",
              "    </tr>\n",
              "    <tr>\n",
              "      <th>7</th>\n",
              "      <td>tempo</td>\n",
              "      <td>0.200044</td>\n",
              "    </tr>\n",
              "    <tr>\n",
              "      <th>8</th>\n",
              "      <td>danceability</td>\n",
              "      <td>0.172261</td>\n",
              "    </tr>\n",
              "  </tbody>\n",
              "</table>\n",
              "</div>\n",
              "    <div class=\"colab-df-buttons\">\n",
              "\n",
              "  <div class=\"colab-df-container\">\n",
              "    <button class=\"colab-df-convert\" onclick=\"convertToInteractive('df-8ca7c6ef-ebc6-4440-b7cb-2eeed4b4ae38')\"\n",
              "            title=\"Convert this dataframe to an interactive table.\"\n",
              "            style=\"display:none;\">\n",
              "\n",
              "  <svg xmlns=\"http://www.w3.org/2000/svg\" height=\"24px\" viewBox=\"0 -960 960 960\">\n",
              "    <path d=\"M120-120v-720h720v720H120Zm60-500h600v-160H180v160Zm220 220h160v-160H400v160Zm0 220h160v-160H400v160ZM180-400h160v-160H180v160Zm440 0h160v-160H620v160ZM180-180h160v-160H180v160Zm440 0h160v-160H620v160Z\"/>\n",
              "  </svg>\n",
              "    </button>\n",
              "\n",
              "  <style>\n",
              "    .colab-df-container {\n",
              "      display:flex;\n",
              "      gap: 12px;\n",
              "    }\n",
              "\n",
              "    .colab-df-convert {\n",
              "      background-color: #E8F0FE;\n",
              "      border: none;\n",
              "      border-radius: 50%;\n",
              "      cursor: pointer;\n",
              "      display: none;\n",
              "      fill: #1967D2;\n",
              "      height: 32px;\n",
              "      padding: 0 0 0 0;\n",
              "      width: 32px;\n",
              "    }\n",
              "\n",
              "    .colab-df-convert:hover {\n",
              "      background-color: #E2EBFA;\n",
              "      box-shadow: 0px 1px 2px rgba(60, 64, 67, 0.3), 0px 1px 3px 1px rgba(60, 64, 67, 0.15);\n",
              "      fill: #174EA6;\n",
              "    }\n",
              "\n",
              "    .colab-df-buttons div {\n",
              "      margin-bottom: 4px;\n",
              "    }\n",
              "\n",
              "    [theme=dark] .colab-df-convert {\n",
              "      background-color: #3B4455;\n",
              "      fill: #D2E3FC;\n",
              "    }\n",
              "\n",
              "    [theme=dark] .colab-df-convert:hover {\n",
              "      background-color: #434B5C;\n",
              "      box-shadow: 0px 1px 3px 1px rgba(0, 0, 0, 0.15);\n",
              "      filter: drop-shadow(0px 1px 2px rgba(0, 0, 0, 0.3));\n",
              "      fill: #FFFFFF;\n",
              "    }\n",
              "  </style>\n",
              "\n",
              "    <script>\n",
              "      const buttonEl =\n",
              "        document.querySelector('#df-8ca7c6ef-ebc6-4440-b7cb-2eeed4b4ae38 button.colab-df-convert');\n",
              "      buttonEl.style.display =\n",
              "        google.colab.kernel.accessAllowed ? 'block' : 'none';\n",
              "\n",
              "      async function convertToInteractive(key) {\n",
              "        const element = document.querySelector('#df-8ca7c6ef-ebc6-4440-b7cb-2eeed4b4ae38');\n",
              "        const dataTable =\n",
              "          await google.colab.kernel.invokeFunction('convertToInteractive',\n",
              "                                                    [key], {});\n",
              "        if (!dataTable) return;\n",
              "\n",
              "        const docLinkHtml = 'Like what you see? Visit the ' +\n",
              "          '<a target=\"_blank\" href=https://colab.research.google.com/notebooks/data_table.ipynb>data table notebook</a>'\n",
              "          + ' to learn more about interactive tables.';\n",
              "        element.innerHTML = '';\n",
              "        dataTable['output_type'] = 'display_data';\n",
              "        await google.colab.output.renderOutput(dataTable, element);\n",
              "        const docLink = document.createElement('div');\n",
              "        docLink.innerHTML = docLinkHtml;\n",
              "        element.appendChild(docLink);\n",
              "      }\n",
              "    </script>\n",
              "  </div>\n",
              "\n",
              "\n",
              "<div id=\"df-2f34d297-b8fb-4a30-881e-1d8fdf3d9757\">\n",
              "  <button class=\"colab-df-quickchart\" onclick=\"quickchart('df-2f34d297-b8fb-4a30-881e-1d8fdf3d9757')\"\n",
              "            title=\"Suggest charts\"\n",
              "            style=\"display:none;\">\n",
              "\n",
              "<svg xmlns=\"http://www.w3.org/2000/svg\" height=\"24px\"viewBox=\"0 0 24 24\"\n",
              "     width=\"24px\">\n",
              "    <g>\n",
              "        <path d=\"M19 3H5c-1.1 0-2 .9-2 2v14c0 1.1.9 2 2 2h14c1.1 0 2-.9 2-2V5c0-1.1-.9-2-2-2zM9 17H7v-7h2v7zm4 0h-2V7h2v10zm4 0h-2v-4h2v4z\"/>\n",
              "    </g>\n",
              "</svg>\n",
              "  </button>\n",
              "\n",
              "<style>\n",
              "  .colab-df-quickchart {\n",
              "      --bg-color: #E8F0FE;\n",
              "      --fill-color: #1967D2;\n",
              "      --hover-bg-color: #E2EBFA;\n",
              "      --hover-fill-color: #174EA6;\n",
              "      --disabled-fill-color: #AAA;\n",
              "      --disabled-bg-color: #DDD;\n",
              "  }\n",
              "\n",
              "  [theme=dark] .colab-df-quickchart {\n",
              "      --bg-color: #3B4455;\n",
              "      --fill-color: #D2E3FC;\n",
              "      --hover-bg-color: #434B5C;\n",
              "      --hover-fill-color: #FFFFFF;\n",
              "      --disabled-bg-color: #3B4455;\n",
              "      --disabled-fill-color: #666;\n",
              "  }\n",
              "\n",
              "  .colab-df-quickchart {\n",
              "    background-color: var(--bg-color);\n",
              "    border: none;\n",
              "    border-radius: 50%;\n",
              "    cursor: pointer;\n",
              "    display: none;\n",
              "    fill: var(--fill-color);\n",
              "    height: 32px;\n",
              "    padding: 0;\n",
              "    width: 32px;\n",
              "  }\n",
              "\n",
              "  .colab-df-quickchart:hover {\n",
              "    background-color: var(--hover-bg-color);\n",
              "    box-shadow: 0 1px 2px rgba(60, 64, 67, 0.3), 0 1px 3px 1px rgba(60, 64, 67, 0.15);\n",
              "    fill: var(--button-hover-fill-color);\n",
              "  }\n",
              "\n",
              "  .colab-df-quickchart-complete:disabled,\n",
              "  .colab-df-quickchart-complete:disabled:hover {\n",
              "    background-color: var(--disabled-bg-color);\n",
              "    fill: var(--disabled-fill-color);\n",
              "    box-shadow: none;\n",
              "  }\n",
              "\n",
              "  .colab-df-spinner {\n",
              "    border: 2px solid var(--fill-color);\n",
              "    border-color: transparent;\n",
              "    border-bottom-color: var(--fill-color);\n",
              "    animation:\n",
              "      spin 1s steps(1) infinite;\n",
              "  }\n",
              "\n",
              "  @keyframes spin {\n",
              "    0% {\n",
              "      border-color: transparent;\n",
              "      border-bottom-color: var(--fill-color);\n",
              "      border-left-color: var(--fill-color);\n",
              "    }\n",
              "    20% {\n",
              "      border-color: transparent;\n",
              "      border-left-color: var(--fill-color);\n",
              "      border-top-color: var(--fill-color);\n",
              "    }\n",
              "    30% {\n",
              "      border-color: transparent;\n",
              "      border-left-color: var(--fill-color);\n",
              "      border-top-color: var(--fill-color);\n",
              "      border-right-color: var(--fill-color);\n",
              "    }\n",
              "    40% {\n",
              "      border-color: transparent;\n",
              "      border-right-color: var(--fill-color);\n",
              "      border-top-color: var(--fill-color);\n",
              "    }\n",
              "    60% {\n",
              "      border-color: transparent;\n",
              "      border-right-color: var(--fill-color);\n",
              "    }\n",
              "    80% {\n",
              "      border-color: transparent;\n",
              "      border-right-color: var(--fill-color);\n",
              "      border-bottom-color: var(--fill-color);\n",
              "    }\n",
              "    90% {\n",
              "      border-color: transparent;\n",
              "      border-bottom-color: var(--fill-color);\n",
              "    }\n",
              "  }\n",
              "</style>\n",
              "\n",
              "  <script>\n",
              "    async function quickchart(key) {\n",
              "      const quickchartButtonEl =\n",
              "        document.querySelector('#' + key + ' button');\n",
              "      quickchartButtonEl.disabled = true;  // To prevent multiple clicks.\n",
              "      quickchartButtonEl.classList.add('colab-df-spinner');\n",
              "      try {\n",
              "        const charts = await google.colab.kernel.invokeFunction(\n",
              "            'suggestCharts', [key], {});\n",
              "      } catch (error) {\n",
              "        console.error('Error during call to suggestCharts:', error);\n",
              "      }\n",
              "      quickchartButtonEl.classList.remove('colab-df-spinner');\n",
              "      quickchartButtonEl.classList.add('colab-df-quickchart-complete');\n",
              "    }\n",
              "    (() => {\n",
              "      let quickchartButtonEl =\n",
              "        document.querySelector('#df-2f34d297-b8fb-4a30-881e-1d8fdf3d9757 button');\n",
              "      quickchartButtonEl.style.display =\n",
              "        google.colab.kernel.accessAllowed ? 'block' : 'none';\n",
              "    })();\n",
              "  </script>\n",
              "</div>\n",
              "\n",
              "    </div>\n",
              "  </div>\n"
            ],
            "application/vnd.google.colaboratory.intrinsic+json": {
              "type": "dataframe",
              "summary": "{\n  \"name\": \"calcular_outliers_iqr(train_df)\",\n  \"rows\": 9,\n  \"fields\": [\n    {\n      \"column\": \"Columna\",\n      \"properties\": {\n        \"dtype\": \"string\",\n        \"num_unique_values\": 9,\n        \"samples\": [\n          \"tempo\",\n          \"instrumentalness\",\n          \"loudness\"\n        ],\n        \"semantic_type\": \"\",\n        \"description\": \"\"\n      }\n    },\n    {\n      \"column\": \"Porcentaje_Outliers\",\n      \"properties\": {\n        \"dtype\": \"number\",\n        \"std\": 6.430983531828214,\n        \"min\": 0.17226050233385196,\n        \"max\": 18.031784841075797,\n        \"num_unique_values\": 9,\n        \"samples\": [\n          0.20004445432318294,\n          13.380751278061792,\n          4.545454545454546\n        ],\n        \"semantic_type\": \"\",\n        \"description\": \"\"\n      }\n    }\n  ]\n}"
            }
          },
          "metadata": {},
          "execution_count": 25
        }
      ]
    },
    {
      "cell_type": "code",
      "source": [
        "def plot_boxplot_outliers(train_df, columnas_outliers):\n",
        "    # Normalizá las columnas con outliers\n",
        "    scaler = MinMaxScaler()\n",
        "    df_normalized = train_df.copy()\n",
        "    df_normalized[columnas_outliers] = scaler.fit_transform(train_df[columnas_outliers])\n",
        "\n",
        "    # Configuración del gráfico\n",
        "    plt.figure(figsize=(len(columnas_outliers) * 2, 10))\n",
        "    sb.boxplot(data=df_normalized[columnas_outliers], orient='v')\n",
        "\n",
        "    # Ajustes finales del gráfico\n",
        "    plt.title('Boxplot de Variables con Outliers (Normalizadas)', fontsize=14)\n",
        "    plt.ylabel('Valor Normalizado', fontsize=12)\n",
        "    plt.xlabel('Variables', fontsize=12)\n",
        "    plt.tight_layout()\n",
        "    plt.show()"
      ],
      "metadata": {
        "id": "aMrmwhWjMcw2"
      },
      "execution_count": 33,
      "outputs": []
    },
    {
      "cell_type": "code",
      "source": [
        "outliers_df = calcular_outliers_iqr(train_df)"
      ],
      "metadata": {
        "id": "FSdP_996M0ZL"
      },
      "execution_count": 29,
      "outputs": []
    },
    {
      "cell_type": "code",
      "source": [
        "columnas_outliers = outliers_df['Columna'].tolist()\n",
        "plot_boxplot_outliers(train_df, columnas_outliers)"
      ],
      "metadata": {
        "id": "Jcvbm_5ONBx-",
        "outputId": "e587851d-61a9-4e69-8f26-69a3a5abfdb4",
        "colab": {
          "base_uri": "https://localhost:8080/",
          "height": 471
        }
      },
      "execution_count": 34,
      "outputs": [
        {
          "output_type": "display_data",
          "data": {
            "text/plain": [
              "<Figure size 1800x1000 with 1 Axes>"
            ],
            "image/png": "[encoded data removed]"
          },
          "metadata": {}
        }
      ]
    },
    {
      "cell_type": "markdown",
      "source": [
        "### Valores nulos"
      ],
      "metadata": {
        "id": "TB5pQKqkravl"
      }
    },
    {
      "cell_type": "markdown",
      "source": [
        "## **3) ANÁLISIS EXPLORATORIO DE DATOS**"
      ],
      "metadata": {
        "id": "oiBUtpXCDmkw"
      }
    },
    {
      "cell_type": "markdown",
      "source": [
        "## **4) ANÁLISIS ESTADÍSTICO DE DATOS**"
      ],
      "metadata": {
        "id": "wGS6iutisB3h"
      }
    },
    {
      "cell_type": "markdown",
      "source": [
        "### Análisis Univariado"
      ],
      "metadata": {
        "id": "kJ4xfFVYsmfA"
      }
    },
    {
      "cell_type": "markdown",
      "source": [
        "### Análisis Bivariado"
      ],
      "metadata": {
        "id": "lUc3XZbzsrN8"
      }
    },
    {
      "cell_type": "markdown",
      "source": [
        "### Análisis Multivariado"
      ],
      "metadata": {
        "id": "EcxIi6AjsmVh"
      }
    },
    {
      "cell_type": "markdown",
      "source": [
        "##**4) PREPROCESAMIENTO DE DATOS**"
      ],
      "metadata": {
        "id": "RLNAUzoorTwm"
      }
    },
    {
      "cell_type": "markdown",
      "source": [
        "### Eliminar columnas irrelevantes"
      ],
      "metadata": {
        "id": "GgIadRuWrk44"
      }
    },
    {
      "cell_type": "markdown",
      "source": [
        "### Encoding & Normalizado"
      ],
      "metadata": {
        "id": "HaUEk0ttrn67"
      }
    },
    {
      "cell_type": "markdown",
      "source": [
        "##**5)  SELECION DE MODELOS Y ENTRENAMIENTO**"
      ],
      "metadata": {
        "id": "hmr9ggksrs2P"
      }
    },
    {
      "cell_type": "markdown",
      "source": [
        "##**6) VALIDACIÓN**"
      ],
      "metadata": {
        "id": "zc7Z8a4bvUB3"
      }
    },
    {
      "cell_type": "code",
      "source": [],
      "metadata": {
        "id": "EShmmqc0Dd3L"
      },
      "execution_count": null,
      "outputs": []
    }
  ]
}